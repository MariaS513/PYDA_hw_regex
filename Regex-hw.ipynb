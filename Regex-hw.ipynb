{
 "cells": [
  {
   "cell_type": "markdown",
   "metadata": {},
   "source": [
    "# Домашнее задание к лекции \"Регулярные выражения\"\n",
    "Для зачета необходимо выполнить 4 задания.  \n",
    "Для зачета с отличием – все."
   ]
  },
  {
   "cell_type": "markdown",
   "metadata": {},
   "source": [
    "## Задание 1"
   ]
  },
  {
   "cell_type": "markdown",
   "metadata": {},
   "source": [
    "Напишите функцию, которая принимает на вход строку и проверяет является ли она валидным транспортным номером. Если да, то функция должна возвращать отдельно номер и регион."
   ]
  },
  {
   "cell_type": "code",
   "execution_count": 63,
   "metadata": {},
   "outputs": [],
   "source": [
    "import re"
   ]
  },
  {
   "cell_type": "code",
   "execution_count": 64,
   "metadata": {},
   "outputs": [],
   "source": [
    "# В предположении, что \"номер\" в условии задачи - 3 цифры, не включая серию из трех букв\n",
    "def auto_num_valid():\n",
    "    auto_num = input('Введите номер авто ').upper()\n",
    "    valid_pattern = '^[АВЕКМНОРСТУХABEKMHOPCTYX](\\d{3})[АВЕКМНОРСТУХABEKMHOPCTYX]{2}(\\d{2,3})$'\n",
    "    x = re.search(valid_pattern,auto_num)\n",
    "    if x:\n",
    "        print(f'Номер авто {x.group(1)}')\n",
    "        print(f'Код региона {x.group(2)}')\n",
    "    else:\n",
    "        print('Ошибка ввода')"
   ]
  },
  {
   "cell_type": "code",
   "execution_count": 65,
   "metadata": {},
   "outputs": [
    {
     "name": "stdout",
     "output_type": "stream",
     "text": [
      "Введите номер авто c569cp63\n",
      "Номер авто 569\n",
      "Код региона 63\n"
     ]
    }
   ],
   "source": [
    "auto_num_valid()"
   ]
  },
  {
   "cell_type": "markdown",
   "metadata": {},
   "source": [
    "## Задание 2"
   ]
  },
  {
   "cell_type": "markdown",
   "metadata": {},
   "source": [
    "Напишите функцию, которая проверяет e-mail адрес на валидность по стандарту RFC822: http://www.w3.org/Protocols/rfc822/. Для этого постарайтесь написать (в крайнем случае найти) самый полный шаблон для проверки e-mail адресов через регулярное выражение. Разберитесь и напишите примеры, какие ваш шаблон может не охватить."
   ]
  },
  {
   "cell_type": "code",
   "execution_count": null,
   "metadata": {},
   "outputs": [],
   "source": [
    "# - person@registry.organization    or    user@host.network\n",
    "# - Any number of registration levels\n",
    "# - Assuming all emails have organization or network specified \n",
    "#(i.e. that the test is not for emailing within organization = ignoring possible format \"mailbox.sub1.sub2@this-domain\")\n"
   ]
  },
  {
   "cell_type": "code",
   "execution_count": null,
   "metadata": {},
   "outputs": [],
   "source": [
    "# local-part@domain  - local part may be up to 64 octets long and the domain may have a maximum of 255 octets.\n",
    "\n",
    "# The local-part of the email address may use any of these ASCII characters:\n",
    "# - uppercase and lowercase Latin letters A to Z and a to z;\n",
    "# - digits 0 to 9;\n",
    "# - printable characters !#$%&'*+-/=?^_`{|}~;\n",
    "# - dot ., provided that it is not the first or last character unless quoted, and provided also that it does not appear consecutively unless quoted (e.g. John..Doe@example.com is not allowed but \"John..Doe\"@example.com is allowed)\n",
    "# - space and special characters \"(),:;<>@[\\] are allowed with restrictions (they are only allowed inside a quoted string, as described in the paragraph below, and in addition, a backslash or double-quote must be preceded by a backslash);\n",
    "\n",
    "# The domain name part of an email address has to conform to strict guidelines: it must match the requirements for a hostname, a list of dot-separated DNS labels, each label being limited to a length of 63 characters and consisting of:[8]:§2\n",
    "# - uppercase and lowercase Latin letters A to Z and a to z;\n",
    "# - digits 0 to 9, provided that top-level domain names are not all-numeric;\n",
    "# - hyphen -, provided that it is not the first or last character.\n",
    "\n",
    "# https://en.wikipedia.org/wiki/List_of_Internet_top-level_domains - list of top-level domains"
   ]
  },
  {
   "cell_type": "code",
   "execution_count": 108,
   "metadata": {},
   "outputs": [],
   "source": [
    "def email_validation():\n",
    "    \"\"\"\n",
    "    Примеры, для которых проверка не работает верно:\n",
    "    - Для адресов и доменов на кириллице (работает только для латиницы)\n",
    "    \n",
    "    - Для суб-доменов, состоящих из одного символа (связано с необходимостью наложить условие на \"-\")\n",
    "    \n",
    "    - Для email адресов, у которых local part содержит спецсимволы типа \"(),:;<>@[\\] \n",
    "    - Не проверяет расположение точки в local part (should not be the first or last character or repeated unless quoted)\n",
    "    - Не проверяет правило по длине email\n",
    "\n",
    "    \"\"\"\n",
    "    email = input('Ваш e-mail адрес ')\n",
    "    email_rule = '^\\S[^\"(),:;<>@[\\]]+@([^-][A-Za-z0-9-]*[^-]\\.)*[a-zA-Z]{2,4}$'\n",
    "    x = re.search(email_rule, email)\n",
    "    if x:\n",
    "        print('Верно')\n",
    "    else:\n",
    "        print('Ошибка ввода')    "
   ]
  },
  {
   "cell_type": "code",
   "execution_count": 111,
   "metadata": {},
   "outputs": [
    {
     "name": "stdout",
     "output_type": "stream",
     "text": [
      "Ваш e-mail адрес eco@edu.com\n",
      "Верно\n"
     ]
    }
   ],
   "source": [
    "email_validation()"
   ]
  },
  {
   "cell_type": "markdown",
   "metadata": {},
   "source": [
    "## Задание 3\n",
    "Напишите функцию, которая будет удалять все последовательные повторы слов из заданной строки."
   ]
  },
  {
   "cell_type": "code",
   "execution_count": 123,
   "metadata": {},
   "outputs": [],
   "source": [
    "def del_repeat():\n",
    "    \"\"\"\n",
    "    Для повторений через знак препинания или пробельный символ\n",
    "    \n",
    "    \"\"\"    \n",
    "    string = input('Введите строку ')\n",
    "    word = '[a-zA-Zа-яА-Я]+'\n",
    "    string_new = string\n",
    "    \n",
    "    for x in re.findall(word, string, flags = re.I):\n",
    "        string_new = re.sub(f'{x}[\\s,\\.;:-]+{x}',f'{x}', string_new, flags = re.I)\n",
    "    print(string_new)"
   ]
  },
  {
   "cell_type": "code",
   "execution_count": 125,
   "metadata": {},
   "outputs": [
    {
     "name": "stdout",
     "output_type": "stream",
     "text": [
      "Введите строку Ландыш ландыш Тюльпан ---- тюльпан\n",
      "Ландыш Тюльпан\n"
     ]
    }
   ],
   "source": [
    "del_repeat()"
   ]
  },
  {
   "cell_type": "markdown",
   "metadata": {},
   "source": [
    "## Задание 4\n",
    "Напишите функцию, которая будет проверять номер сотового телефона на валидность, если он валиден, то переводить его в формат:   \n",
    "+7(xxx)-xxx-xx-xx  \n",
    "Постарайтесь предусмотреть как можно больше адекватных форматов изначального ввода номера.\n",
    "Примеры правильных и неправильных форматов:\n",
    "- +7 955 555-55-55;\n",
    "- 955555555;\n",
    "- 8(955)555-55-55;\n",
    "- +7 955 555 55 55;\n",
    "- 7(955) 555-55-55;\n",
    "- +7 955+555+55+55."
   ]
  },
  {
   "cell_type": "code",
   "execution_count": 112,
   "metadata": {},
   "outputs": [],
   "source": [
    "def mob_valid():\n",
    "    mobile = input('Введите номер мобильного ')\n",
    "    mob_pattern = '^\\+?[78]?\\s?\\(?9(\\d{2})[\\+\\)-]?\\s?(\\d{3})[\\s\\+-]?(\\d{2})[\\s\\+-]?(\\d{2})$'\n",
    "    x = re.search(mob_pattern, mobile)\n",
    "    if x:\n",
    "        mob_correct = f'+7(9{x.group(1)})-{x.group(2)}-{x.group(3)}-{x.group(4)}'\n",
    "        print(mob_correct)\n",
    "    else:\n",
    "        print('Неверный ввод')"
   ]
  },
  {
   "cell_type": "code",
   "execution_count": 113,
   "metadata": {},
   "outputs": [
    {
     "name": "stdout",
     "output_type": "stream",
     "text": [
      "Введите номер мобильного +7 955+555+55+55\n",
      "+7(955)-555-55-55\n"
     ]
    }
   ],
   "source": [
    "mob_valid()"
   ]
  },
  {
   "cell_type": "code",
   "execution_count": null,
   "metadata": {},
   "outputs": [],
   "source": []
  }
 ],
 "metadata": {
  "kernelspec": {
   "display_name": "Python 3",
   "language": "python",
   "name": "python3"
  },
  "language_info": {
   "codemirror_mode": {
    "name": "ipython",
    "version": 3
   },
   "file_extension": ".py",
   "mimetype": "text/x-python",
   "name": "python",
   "nbconvert_exporter": "python",
   "pygments_lexer": "ipython3",
   "version": "3.7.4"
  }
 },
 "nbformat": 4,
 "nbformat_minor": 2
}
